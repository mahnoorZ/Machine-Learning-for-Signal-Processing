{
  "cells": [
    {
      "cell_type": "markdown",
      "metadata": {
        "id": "_keAmp5cQtQa"
      },
      "source": [
        "# AdaBoost with Perceptron on Two-Class Training Data"
      ]
    },
    {
      "cell_type": "code",
      "execution_count": 5,
      "metadata": {
        "colab": {
          "base_uri": "https://localhost:8080/",
          "height": 447
        },
        "id": "YgI3fZMXYlo6",
        "outputId": "dee948b4-ac34-4757-ea24-00f32c63f4f1"
      },
      "outputs": [
        {
          "name": "stdout",
          "output_type": "stream",
          "text": [
            "training accuracy is: 78.125 %\n"
          ]
        },
        {
          "data": {
            "image/png": "[encoded data removed]",
            "text/plain": [
              "<Figure size 640x480 with 1 Axes>"
            ]
          },
          "metadata": {},
          "output_type": "display_data"
        }
      ],
      "source": [
        "import numpy as np\n",
        "import matplotlib.pyplot as plt\n",
        "from scipy.io import loadmat\n",
        "from matplotlib.colors import ListedColormap\n",
        "\n",
        "\n",
        "def tanh_derivative(x):\n",
        "    return 1.0 - np.tanh(x) ** 2\n",
        "\n",
        "\n",
        "def W_init(rows, col):\n",
        "    input_dim = rows\n",
        "    output_dim = col\n",
        "\n",
        "    std_dev = np.sqrt(2 / (input_dim + output_dim))\n",
        "    W = np.random.randn(input_dim, output_dim) * std_dev\n",
        "\n",
        "    return W\n",
        "\n",
        "\n",
        "def ada_boost_perceptron(X, labels, iter, l_rate):\n",
        "    # Initialize the weights of all training examples to 1/N\n",
        "    N = len(X[0])\n",
        "    w = np.ones(N) / N\n",
        "\n",
        "    # Initialize the list of weak learners and their weights\n",
        "    weak_learners = []\n",
        "    alphas = []\n",
        "\n",
        "    for t in range(iter):\n",
        "        # Train a single layer perceptron on the weighted training set\n",
        "        weights, bias = perceptron(w, X, labels, l_rate=0.2, epochs=5000, tol=1e-4)\n",
        "        perceptron_predict = lambda x: np.sign(np.dot(weights.T, x) + bias)\n",
        "        weak_learners.append(perceptron_predict)\n",
        "\n",
        "        # Compute the weighted error of the perceptron on the training set\n",
        "        y_pred = perceptron_predict(X)\n",
        "        err = np.sum(np.where(y_pred != labels, w, 0))\n",
        "\n",
        "        # Compute the weight of the perceptron\n",
        "        alpha = 0.5 * np.log((1 - err) / err)\n",
        "        alphas.append(alpha)\n",
        "\n",
        "        # Update the weights of the training examples\n",
        "        labels1 = labels.flatten()\n",
        "        y_pred = y_pred.flatten()\n",
        "        w *= np.exp(-alpha * labels1 * y_pred)\n",
        "        w /= np.sum(w)\n",
        "\n",
        "    # Predict the class labels using the weighted sum of the weak learners\n",
        "    y_pred = np.zeros((1, len(X[0])))\n",
        "    for t in range(iter):\n",
        "        y_pred += alphas[t] * weak_learners[t](X)\n",
        "    return np.sign(y_pred), w\n",
        "\n",
        "\n",
        "def perceptron(w, X, labels, l_rate, epochs, tol):\n",
        "    weights = W_init(2, 1)\n",
        "    biases = np.random.randn(1)\n",
        "\n",
        "    for i in range(epochs):\n",
        "        # Forward pass\n",
        "        out = np.dot(weights.T, X) + biases\n",
        "        out_activated = np.tanh(out)\n",
        "\n",
        "        loss = labels - out_activated\n",
        "        error1 = w * loss * tanh_derivative(out)\n",
        "\n",
        "        if np.abs(np.mean(loss)) < tol:\n",
        "            break\n",
        "\n",
        "        weights += l_rate * np.dot(out_activated, error1.T)\n",
        "        temp = np.sum(error1, axis=1, keepdims=True)\n",
        "        biases += l_rate * temp[0, 0]\n",
        "\n",
        "    return weights, biases\n",
        "\n",
        "\n",
        "if __name__ == \"__main__\":\n",
        "    file1 = loadmat('/content/trX.mat')\n",
        "    file2 = loadmat('/content/trY.mat')\n",
        "    trX = file1[\"trX\"]\n",
        "    trY = file2[\"trY\"]\n",
        "\n",
        "    y_pred, w = ada_boost_perceptron(trX, trY, iter=500, l_rate=0.06)\n",
        "    correct = np.sum(np.where(y_pred == trY, 0, 1))\n",
        "    accuracy = (correct/len(trX[0]))*100\n",
        "    print('training accuracy is:', accuracy, '%')\n",
        "\n",
        "    plt.scatter(trX[0], trX[1], s=w, c=trY)\n",
        "    plt.show()\n",
        "\n",
        "   \n",
        "\n"
      ]
    }
  ],
  "metadata": {
    "colab": {
      "collapsed_sections": [
        "Bo8bj8-AQpmi",
        "4bmI9XcnQqhG",
        "eFMHrt71QsD7"
      ],
      "provenance": []
    },
    "kernelspec": {
      "display_name": "Python 3",
      "name": "python3"
    },
    "language_info": {
      "name": "python"
    }
  },
  "nbformat": 4,
  "nbformat_minor": 0
}
