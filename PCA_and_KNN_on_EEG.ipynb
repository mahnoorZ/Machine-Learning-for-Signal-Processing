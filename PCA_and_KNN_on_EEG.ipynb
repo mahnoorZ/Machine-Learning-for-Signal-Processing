{
  "cells": [
    {
      "cell_type": "markdown",
      "metadata": {
        "id": "dLpULcneOHyA"
      },
      "source": [
        "# Dimensionality Reduction and K-Nearest Neighbors (KNN) Classification on EEG Data"
      ]
    },
    {
      "cell_type": "code",
      "execution_count": 1,
      "metadata": {
        "colab": {
          "base_uri": "https://localhost:8080/"
        },
        "id": "sSTwx-DFUMWM",
        "outputId": "dc2f776d-aaba-4ddb-cfb9-1879aa4789ed"
      },
      "outputs": [
        {
          "name": "stdout",
          "output_type": "stream",
          "text": [
            "accuracy is  60.71428571428571\n"
          ]
        }
      ],
      "source": [
        "import scipy.io\n",
        "import librosa\n",
        "import numpy as np\n",
        "import matplotlib.pyplot as plt\n",
        "\n",
        "\n",
        "def data(x):\n",
        "    fft = 64\n",
        "    hop = 48\n",
        "    win = 64\n",
        "    data = x[:, 0, 0]\n",
        "    D = librosa.stft(data, n_fft=fft, hop_length=hop, win_length=win)\n",
        "    D = D[3:8, :]\n",
        "    D = D.T\n",
        "    D = D.reshape(-1, 1)\n",
        "    matrix = D\n",
        "    for i in range(1, 3):\n",
        "        D = librosa.stft(x[:, i, 0], n_fft=fft, hop_length=hop, win_length=win)\n",
        "        D = D[3:8, :]\n",
        "        D = D.T\n",
        "        D = D.reshape(-1, 1)\n",
        "        matrix = np.vstack((matrix, D))\n",
        "\n",
        "    matrix1 = matrix\n",
        "\n",
        "    for j in range(1, len(x[0][0])):\n",
        "        data = x[:, 0, j]\n",
        "        D = librosa.stft(data, n_fft=fft, hop_length=hop, win_length=win)\n",
        "        D = D[3:8, :]\n",
        "        D = D.T\n",
        "        D = D.reshape(-1, 1)\n",
        "        matrix = D\n",
        "        for i in range(1, 3):\n",
        "            D = librosa.stft(x[:, i, j], n_fft=fft, hop_length=hop, win_length=win)\n",
        "            D = D[3:8, :]\n",
        "            D = D.T\n",
        "            D = D.reshape(-1, 1)\n",
        "            matrix = np.vstack((matrix, D))\n",
        "        matrix1 = np.hstack((matrix1, matrix))\n",
        "\n",
        "    return matrix1\n",
        "\n",
        "\n",
        "def reduced_dim_data(X):\n",
        "    X_standardized = (X - np.mean(X, axis=1, keepdims=True))  \n",
        "    cov_matrix = np.cov(X_standardized)\n",
        "    eigenvalues, eigenvectors = np.linalg.eig(cov_matrix)\n",
        "\n",
        "    sort_indices = np.argsort(eigenvalues)[::-1]\n",
        "    sorted_eigenvectors = eigenvectors[:, sort_indices]\n",
        "    sorted_eigenvalues = eigenvalues[sort_indices]\n",
        "\n",
        "    # x = np.linspace(1, 50, 50)\n",
        "    # plt.plot(x, sorted_eigenvalues[0:50])\n",
        "    # plt.scatter(x, sorted_eigenvalues[0:50], s=10, c='blue', edgecolor='blue', alpha=0.5)\n",
        "    # plt.show()\n",
        "\n",
        "    k = 25\n",
        "    V = sorted_eigenvectors[:, :k]\n",
        "\n",
        "    return V\n",
        "\n",
        "\n",
        "def k_Neighbours(train, test, y_train):\n",
        "    K = 3\n",
        "    neighbour_labels = np.zeros((len(test[0]), K))\n",
        "    for i in range(len(test[0])):\n",
        "        norm = np.zeros((len(train[0]), 1))\n",
        "        for j in range(len(train[0])):\n",
        "            diff = test[:, i] - train[:, j]\n",
        "            norm[j] = np.linalg.norm(diff)\n",
        "\n",
        "        partition_indices = np.argpartition(norm, K, axis=0)\n",
        "        neighbour_location = partition_indices[:K, 0]\n",
        "\n",
        "        for l in range(K):\n",
        "            neighbour_labels[i][l] = y_train[neighbour_location[l]]\n",
        "\n",
        "    return neighbour_labels\n",
        "\n",
        "\n",
        "if __name__ == '__main__':\n",
        "    file = scipy.io.loadmat('/content/eeg.mat')\n",
        "    x_test = file[\"x_te\"]\n",
        "    x_train = file[\"x_train\"]\n",
        "    y_test = file[\"y_te\"]\n",
        "    y_train = file[\"y_train\"]\n",
        "\n",
        "    train_input = data(x_train)\n",
        "    V = reduced_dim_data(train_input)\n",
        "    train_input_reduced = np.matmul(np.transpose(V), train_input)\n",
        "    test_input = data(x_test)\n",
        "    test_input_reduced = np.matmul(np.transpose(V), test_input)\n",
        "\n",
        "    neighbour_labels = k_Neighbours(train_input_reduced, test_input_reduced, y_train)\n",
        "    neighbour_labels = neighbour_labels.astype(int)\n",
        "\n",
        "    y_predicted = np.zeros((len(neighbour_labels), 1))\n",
        "\n",
        "    for lab in range(len(neighbour_labels)):\n",
        "        num_ones = np.count_nonzero(neighbour_labels[lab] == 1)\n",
        "        num_twos = np.count_nonzero(neighbour_labels[lab] == 2)\n",
        "\n",
        "        if num_ones > num_twos:\n",
        "            y_predicted[lab] = 1\n",
        "        else:\n",
        "            y_predicted[lab] = 2\n",
        "\n",
        "    difference = abs(y_predicted - y_test)\n",
        "    num_zeros = np.count_nonzero(difference == 0)\n",
        "    accuracy = (num_zeros / len(y_test)) * 100\n",
        "\n",
        "    print(\"accuracy is \", accuracy)\n"
      ]
    },
    {
      "cell_type": "markdown",
      "metadata": {
        "id": "MtXx6DesVp1q"
      },
      "source": [
        "Graph below show the accuracy along various number of nearest neighbours K and selecting different PCs\n",
        "\n",
        "\n",
        "\\begin{array}{|c|l|l|l|l|l|l|l|}\n",
        "\\hline\n",
        "\\textbf{K/PCs} & {\\textbf{10}} & {\\textbf{15}} & {\\textbf{20}} & {\\textbf{25}} & {\\textbf{30}} & {\\textbf{35}} & {\\textbf{40}} \\\\ \\hline\n",
        "\\textbf{3}     & 53.57                            & 67.85                            & 64.28                            & 50                               & 60.71                            & 53.5                             & 50                               \\\\ \\hline\n",
        "\\textbf{7}     & 46.42                            & 50                               & 42.8                             & 50                               & 50                               & 50                               & 53.5                             \\\\ \\hline\n",
        "\\textbf{15}    & 39.28                            & 42.85                            & 46.4                             & 32.14                            & 42.85                            & 46.4                             & 50                               \\\\ \\hline\n",
        "\\end{array}"
      ]
    }
  ],
  "metadata": {
    "colab": {
      "collapsed_sections": [
        "mWcxz4gLOBdp",
        "M1LkSM19OHTe"
      ],
      "provenance": []
    },
    "kernelspec": {
      "display_name": "Python 3",
      "name": "python3"
    },
    "language_info": {
      "name": "python"
    }
  },
  "nbformat": 4,
  "nbformat_minor": 0
}
